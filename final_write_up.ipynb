{
 "cells": [
  {
   "cell_type": "code",
   "execution_count": 1,
   "metadata": {},
   "outputs": [],
   "source": [
    "# Import needed libraries\n",
    "import numpy as np\n",
    "from scipy.integrate import solve_bvp\n",
    "import matplotlib.pyplot as plt\n",
    "from integral_constraints import C, C_dx, C_dy, K, K_dvx, K_dvy, K_ddelta\n"
   ]
  },
  {
   "cell_type": "markdown",
   "metadata": {},
   "source": [
    "# 1. Introduction"
   ]
  },
  {
   "cell_type": "markdown",
   "metadata": {},
   "source": [
    "### Abstract"
   ]
  },
  {
   "cell_type": "markdown",
   "metadata": {},
   "source": [
    "Efficient pathfinding is a critical aspect of competitive racing across various disciplines, including marathons, cycling tours, and Formula 1 events. This paper delves into the pursuit of identifying optimal trajectories for completing laps on NASCAR tracks with the primary objective of minimizing lap times. A key consideration in achieving high speeds on such tracks is the ability to navigate turns effectively, as exceeding the optimal speed threshold can compromise traction and stability, leading to undesirable outcomes such as skidding or flipping. The concept of the racing line, which involves maximizing turn radii by starting on the outside, hitting the apex, and finishing on the outside of a turn, plays a pivotal role in this endeavor.\n",
    "\n",
    "Through a comprehensive analysis, this study integrates principles of optimal control, vehicle steering dynamics, and friction constraints to formulate strategies for determining the fastest path around a NASCAR track. By leveraging these methodologies, we aim to enhance our understanding of the complex interplay between driving dynamics and track geometry, ultimately contributing to the advancement of racing performance and strategy. The findings presented herein offer insights into the intricacies of path optimization in high-speed racing environments and lay the groundwork for further research in this domain."
   ]
  },
  {
   "cell_type": "markdown",
   "metadata": {},
   "source": [
    "# 2. Background "
   ]
  },
  {
   "cell_type": "markdown",
   "metadata": {},
   "source": [
    "### Problem Description"
   ]
  },
  {
   "cell_type": "markdown",
   "metadata": {},
   "source": [
    "At first glance, it may seem straightforward to determine the best path for a racecar around an F-1 track by solely controlling its acceleration in the x and y directions. However, this approach overlooks important real-world factors.\n",
    "\n",
    "In reality, steering dynamics and the limited traction available to prevent sliding or flipping are crucial considerations in finding the optimal path. To accurately represent this, we must incorporate these physical constraints, including introducing another control for steering wheel turn acceleration, which must be managed to maintain sufficient traction.\n",
    "\n",
    "In our study, we compared two methods: one using a naive approach and the other considering traction constraints. Through this comparison, we aimed to illustrate how the car's navigation around the track differs under these conditions. This highlights the significance of addressing real-world complexities when optimizing racing paths.\n",
    "\n"
   ]
  },
  {
   "cell_type": "markdown",
   "metadata": {},
   "source": [
    "### Relevant Research\n",
    "\n",
    "Many have formed mathematical models for the motion of automobiles in a variety of settings including optimal control. A common choice for modeling the motion of an automobile is the Kinematic Bicycle Model which simplifies the dynamics of an automobile. Victor Freire and Xiangru Xu, for example, used the Kinematic Bicycle Model when solving an optimal control problem for maximizing the safety of automobile trips [1]. In addition, Limebeer, Bastin, Warren, & Fensham employed the Kinematic Bicycle Model in their optimal control problem for NASCAR race cars [2]. In accordance with this research, we also use the Kinematic Bicycle Model to simplify the control problem without deviating too far from real world kinematics. We outline the application of the Kinematic Bicycle Model to our optimal control problem below. "
   ]
  },
  {
   "cell_type": "markdown",
   "metadata": {},
   "source": [
    "# 3. Mathematical Representation"
   ]
  },
  {
   "cell_type": "markdown",
   "metadata": {},
   "source": [
    "### The Setup"
   ]
  },
  {
   "cell_type": "markdown",
   "metadata": {},
   "source": [
    "We first defined the variables for the representation of a car going around an F-1 racetrack as:\n",
    "\n",
    "\\begin{align*}\n",
    "x &= \\text{x position} \\\\\n",
    "y &= \\text{y position} \\\\\n",
    "v_x &= \\text{x velocity} \\\\\n",
    "v_y &= \\text{y velocity} \\\\\n",
    "\\theta &= \\text{vehicle orientation with respect to the x-axis} \\\\\n",
    "\\delta &= \\text{angle of front wheels with respect to the vehicle's orientation} \\\\\n",
    "L &= \\text{Length of car measured from front wheel axis to back wheel axis} \\\\\n",
    "M &= \\text{maximum allowable centripetal acceleration} \\\\\n",
    "u_{\\text{acc}} &= \\text{acceleration} \\\\\n",
    "u_{\\text{angle}} &= \\text{change in steering angle}\n",
    "\\end{align*}\n",
    "\n",
    "where $u_{acc}$ and $u{angle}$ are our control variables.\n",
    "\n",
    "We defined our state equations as follows:\n",
    "\n",
    "$\\begin{bmatrix}\n",
    "\\dot{x} \\\\\n",
    "\\dot{y} \\\\\n",
    "\\dot{v}_x \\\\\n",
    "\\dot{v}_y \\\\\n",
    "\\dot{\\theta} \\\\\n",
    "\\dot{\\delta} \\\\\n",
    "\\end{bmatrix} = \\begin{bmatrix}\n",
    "    v_x \\\\\n",
    "    v_y \\\\\n",
    "    u_{acc} \\cdot \\cos(\\theta) \\\\\n",
    "    u_{acc} \\cdot \\sin(\\theta) \\\\\n",
    "    \\sqrt{{v_x}^2 + {v_y}^2} \\cdot \\frac{\\tan(\\delta)}{L} \\\\\n",
    "    u_{angle}\n",
    "\\end{bmatrix}$\n",
    "\n",
    "\n",
    "With an unmodified cost functional of \n",
    "\n",
    "$J[u] = \\int\\limits_0^{t_f}dt$ \n",
    "\n",
    "\n",
    "Using the fact that centripetal acceleration is $\\frac{v^2}{r}$ where $r$ is the turn radius which is dependent on $L$, we arive at our centripetal acceleration constraint:\n",
    "\n",
    "$\\frac{{v_x}^2 + {v_y}^2}{L}\\tan(\\delta) - M < 0$\n",
    "\n",
    "And finally we have the constraints of the race track:\n",
    "\n",
    "FIXME - add in the actual constraints of the race track\n",
    "\n",
    "\n",
    "\n",
    "\n",
    "\n",
    "\n",
    "\n",
    "\n",
    "\n",
    "\n",
    "\n",
    "\n",
    "\n",
    "\n",
    "\n"
   ]
  },
  {
   "cell_type": "markdown",
   "metadata": {},
   "source": [
    "# 4. Derivation of Solution"
   ]
  },
  {
   "cell_type": "markdown",
   "metadata": {},
   "source": [
    "### Deriving the Modified Cost Functional"
   ]
  },
  {
   "cell_type": "markdown",
   "metadata": {},
   "source": [
    "We enforce the constraints above by defining functions with extremely high penalties for violating the constraints and including these functions in the cost functional. We first define the function that describes the topology of the racetrack, penalizing heavily for movement inside and outside the track:\n",
    "\n",
    "$C(x,y) = \\frac{3}{(\\frac{x^2}{15} + \\frac{y^2}{10})^{20} + 1}\n",
    "-\\frac{3}{(\\frac{x^2}{10} + \\frac{y^2}{5})^{70} + 1}\n",
    "+\\frac{3}{((x-1)^2 + y^2)^{20} + 1}\n",
    "+\\frac{3}{((x+1)^2 + y^2)^{20} + 1}\n",
    "+\\frac{3}{(x^2 + y^2)^{20} + 1}$\n",
    "\n",
    "Next, we define the function that gives a severe penalty for violating the centripetal acceleration constraint:\n",
    "\n",
    "$K(v_x, v_y, \\delta) = \\left(\\frac{1}{\\frac{{v_x}^2 + {v_y}^2}{L}\\tan(\\delta) - M} \\right)^{70}$\n",
    "\n",
    "We then define a function that penalizes unreasonably high acceleration values:\n",
    "\n",
    "$W(u_{acc}, u_{angle}) = w_1{u_{acc}}^2 + w_2{u_{angle}}^2$\n",
    "\n",
    "Finally, we incorporate all of these penalties into our new cost functional:\n",
    "\n",
    "$J[u] = \\int\\limits_0^{t_f} 1 + C(x,y) + K(v_x, v_y, \\delta) + W(u_{acc}, u_{angle})dt$ \n",
    "\n"
   ]
  },
  {
   "cell_type": "markdown",
   "metadata": {},
   "source": [
    "### The Hamiltonian, Co-State Equations, and Boundary Equations (Whoever made the Latex for the poster put it here as well)\n"
   ]
  },
  {
   "cell_type": "markdown",
   "metadata": {},
   "source": [
    "Starting with $H = p \\cdot f - L$, our full hamiltonian for this problem is:\n",
    "\n",
    "$H = p_1v_x + p_2v_y + p_3u_{acc}\\cos(\\theta) + p_4u_{acc}\\sin(\\theta) + p_5\\sqrt{v_x^2 + v_y^2}\\frac{\\tan(\\delta)}{L} + p_6u_{angle} - (1 + C(x,y) + K(v_x, v_y, \\delta) + W(u_{acc}, u_{angle}))$\n",
    "\n",
    "Using this Hamiltonian and applying Pontryagin's Maximum Principle, we obtain the costate equations:\n",
    "\n",
    "$\\begin{bmatrix}\n",
    "\\dot{p_1} \\\\\n",
    "\\dot{p_2} \\\\\n",
    "\\dot{p_3} \\\\\n",
    "\\dot{p_4} \\\\\n",
    "\\dot{p_5} \\\\\n",
    "\\dot{p_6} \\\\\n",
    "\\end{bmatrix} =\n",
    "\\begin{bmatrix}\n",
    "C_x \\\\\n",
    "C_y \\\\\n",
    "-p_1 - p_5\\frac{v_x}{\\sqrt{v_x^2 + v_y^2}}\\frac{\\tan(\\delta)}{L} + K_{v_x}\\\\\n",
    "-p_2 - p_5\\frac{v_y}{\\sqrt{v_x^2 + v_y^2}}\\frac{\\tan(\\delta)}{L} + K_{v_y}\\\\\n",
    "p_3u_{acc}\\sin(\\theta) - p_4u_{acc}\\cos(\\theta) \\\\\n",
    "-\\frac{p_5}{L}\\sqrt{v_x^2 + v_y^2}\\sec^{2}(\\delta) + K_{\\delta} \\\\\n",
    "\\end{bmatrix}$"
   ]
  },
  {
   "cell_type": "markdown",
   "metadata": {},
   "source": [
    "# 5. Interpretations (they want a section called that)"
   ]
  },
  {
   "cell_type": "markdown",
   "metadata": {},
   "source": [
    "### Naive Approach"
   ]
  },
  {
   "cell_type": "code",
   "execution_count": null,
   "metadata": {},
   "outputs": [],
   "source": [
    "def naive_system():\n",
    "    W1 = 100\n",
    "    W2 = .02\n",
    "    n = 200\n",
    "    t = np.linspace(0, 1, n)\n",
    "\n",
    "    C0 = C(1.25, 1.25, W1)\n",
    "\n",
    "    def ode(t, s, p):\n",
    "        return p[0] * np.array([\n",
    "            s[2],\n",
    "            s[3],\n",
    "            1/(2*W2)*s[6],\n",
    "            1/(2*W2)*s[7],\n",
    "            C_dx(s[0], s[1], W1),\n",
    "            C_dy(s[0], s[1], W1),\n",
    "            -s[4],\n",
    "            -s[5]\n",
    "        ])\n",
    "    \n",
    "    def bc(ya, yb, p):\n",
    "        return np.array([\n",
    "            ya[0] + 1, ya[1] + 1.1, ya[2], ya[3], yb[0] - 1, yb[1] - 1.1, yb[2], yb[3],\n",
    "            \n",
    "            # H(tf) = 0\n",
    "            yb[4]*yb[2] + yb[5]*yb[3] + yb[6]**2/(2*W2) + yb[7]**2/(2*W2) - (1 + C0 + (yb[6]**2+yb[7]**2/(4*W2)))\n",
    "        ])\n",
    "    \n",
    "    guess = np.ones((8, n))\n",
    "\n",
    "    path_x = np.concatenate((np.linspace(-1.1, 2.1, 100), 2.1*np.ones(75), np.linspace(1.1, 2.1, 25)[::-1]))\n",
    "    path_y = np.concatenate((-1.1*np.ones(100), np.linspace(-1.1,1.1,75), 1.1*np.ones(25)))\n",
    "\n",
    "\n",
    "    guess[0] = path_x\n",
    "    guess[1] = path_y\n",
    "    p0 = np.array([.5])\n",
    "\n",
    "    sol = solve_bvp(ode, bc, t, guess, p0, max_nodes=30000)\n",
    "\n",
    "    X = np.linspace(-4, 4, 200)\n",
    "    Y = np.linspace(-3, 3, 200)\n",
    "    X, Y = np.meshgrid(X, Y)\n",
    "    Z = C(X, Y)\n",
    "\n",
    "\n",
    "    plt.plot(guess[0], guess[1], \"--k\", label=\"Inital Guess\")\n",
    "    plt.contour(X, Y, Z)\n",
    "    plt.plot(sol.sol(t)[0], sol.sol(t)[1], \"tab:orange\", label=\"Path of Car\")\n",
    "    plt.scatter(-1, -1.1, marker=\"*\", color=\"red\", label=\"Start\")\n",
    "    plt.scatter(1, 1.1, marker=\"*\", color=\"green\", label=\"End\")\n",
    "    plt.xlim([-4,4])\n",
    "    plt.ylim([-3,3])\n",
    "    plt.legend()\n",
    "    plt.title(f\"{sol.p[0]:.2F} seconds\")\n",
    "    plt.show()\n",
    "\n",
    "    return sol.p[0]\n",
    "\n",
    "naive_system()\n"
   ]
  },
  {
   "cell_type": "markdown",
   "metadata": {},
   "source": [
    "### Graphs"
   ]
  },
  {
   "cell_type": "markdown",
   "metadata": {},
   "source": [
    "### (i) Initial Guess of All Ones"
   ]
  },
  {
   "cell_type": "markdown",
   "metadata": {},
   "source": [
    "![Image Title](/Users/user/Vol4Project-1/figures/no_guess.png)"
   ]
  },
  {
   "cell_type": "markdown",
   "metadata": {},
   "source": [
    "### (ii) Initial Guess of Going Straight Through the Track"
   ]
  },
  {
   "cell_type": "markdown",
   "metadata": {},
   "source": [
    "![Image Title](/Users/user/Vol4Project-1/figures/bad_guess.png)"
   ]
  },
  {
   "cell_type": "markdown",
   "metadata": {},
   "source": [
    "### (iii) Initial Guess That Avoids Edges of The Track"
   ]
  },
  {
   "cell_type": "markdown",
   "metadata": {},
   "source": [
    "![Image Title](/Users/user/Vol4Project-1/figures/better_guess.png)"
   ]
  },
  {
   "cell_type": "markdown",
   "metadata": {},
   "source": [
    "### Approach with Centripetal Acceleration Constraint"
   ]
  },
  {
   "cell_type": "code",
   "execution_count": null,
   "metadata": {},
   "outputs": [],
   "source": [
    "# Put Ilha's code here"
   ]
  },
  {
   "cell_type": "markdown",
   "metadata": {},
   "source": [
    "### Graphs"
   ]
  },
  {
   "cell_type": "markdown",
   "metadata": {},
   "source": [
    "### Comparisons with other non-optimal solutions?"
   ]
  },
  {
   "cell_type": "markdown",
   "metadata": {},
   "source": [
    "# 6. Appendix"
   ]
  },
  {
   "cell_type": "markdown",
   "metadata": {},
   "source": [
    "[1] V. Freire and X. Xu, \"Optimal Control for Kinematic Bicycle Model With Continuous-Time Safety Guarantees: A Sequential Second-Order Cone Programming Approach,\" in IEEE Robotics and Automation Letters, vol. 7, no. 4, pp. 11681-11688, Oct. 2022\n",
    "\n",
    "[2] Limebeer, D.J.N., Bastin, M., Warren, E., & Fensham, H. G. (2023). Optimal control of a NASCAR - specification race car. Vehicle System Dynamics, 61(5), 1210-1235\n"
   ]
  }
 ],
 "metadata": {
  "kernelspec": {
   "display_name": "Python 3",
   "language": "python",
   "name": "python3"
  },
  "language_info": {
   "codemirror_mode": {
    "name": "ipython",
    "version": 3
   },
   "file_extension": ".py",
   "mimetype": "text/x-python",
   "name": "python",
   "nbconvert_exporter": "python",
   "pygments_lexer": "ipython3",
   "version": "3.10.13"
  }
 },
 "nbformat": 4,
 "nbformat_minor": 2
}
