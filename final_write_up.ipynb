{
 "cells": [
  {
   "cell_type": "code",
   "execution_count": 1,
   "metadata": {},
   "outputs": [],
   "source": [
    "# Import needed libraries\n",
    "import numpy as np\n",
    "from scipy.integrate import solve_bvp\n",
    "import matplotlib.pyplot as plt\n",
    "from integral_constraints import C, C_dx, C_dy, K, K_dvx, K_dvy, K_ddelta\n"
   ]
  },
  {
   "cell_type": "markdown",
   "metadata": {},
   "source": [
    "# 1. Introduction"
   ]
  },
  {
   "cell_type": "markdown",
   "metadata": {},
   "source": [
    "### Abstract"
   ]
  },
  {
   "cell_type": "markdown",
   "metadata": {},
   "source": [
    "Efficient pathfinding is a critical aspect of competitive racing across various disciplines, including marathons, cycling tours, and Formula 1 events. This paper delves into the pursuit of identifying optimal trajectories for completing laps on NASCAR tracks with the primary objective of minimizing lap times. A key consideration in achieving high speeds on such tracks is the ability to navigate turns effectively, as exceeding the optimal speed threshold can compromise traction and stability, leading to undesirable outcomes such as skidding or flipping. The concept of the racing line, which involves maximizing turn radii by starting on the outside, hitting the apex, and finishing on the outside of a turn, plays a pivotal role in this endeavor.\n",
    "\n",
    "Through a comprehensive analysis, this study integrates principles of optimal control, vehicle steering dynamics, and friction constraints to formulate strategies for determining the fastest path around a NASCAR track. By leveraging these methodologies, we aim to enhance our understanding of the complex interplay between driving dynamics and track geometry, ultimately contributing to the advancement of racing performance and strategy. The findings presented herein offer insights into the intricacies of path optimization in high-speed racing environments and lay the groundwork for further research in this domain."
   ]
  },
  {
   "cell_type": "markdown",
   "metadata": {},
   "source": [
    "# 2. Background "
   ]
  },
  {
   "cell_type": "markdown",
   "metadata": {},
   "source": [
    "### Problem Description"
   ]
  },
  {
   "cell_type": "markdown",
   "metadata": {},
   "source": [
    "At first glance, it may seem straightforward to determine the best path for a racecar around an F-1 track by solely controlling its acceleration in the x and y directions. However, this approach overlooks important real-world factors.\n",
    "\n",
    "In reality, steering dynamics and the limited traction available to prevent sliding or flipping are crucial considerations in finding the optimal path. To accurately represent this, we must incorporate these physical constraints, including introducing another control for steering wheel turn acceleration, which must be managed to maintain sufficient traction.\n",
    "\n",
    "In our study, we compared two methods: one using a naive approach and the other considering traction constraints. Through this comparison, we aimed to illustrate how the car's navigation around the track differs under these conditions. This highlights the significance of addressing real-world complexities when optimizing racing paths.\n",
    "\n"
   ]
  },
  {
   "cell_type": "markdown",
   "metadata": {},
   "source": [
    "### Relevant Research\n",
    "\n",
    "I think Ammon would be best to write this from the article he read to derive the equations."
   ]
  },
  {
   "cell_type": "markdown",
   "metadata": {},
   "source": [
    "# 3. Mathematical Representation"
   ]
  },
  {
   "cell_type": "markdown",
   "metadata": {},
   "source": [
    "### The Setup"
   ]
  },
  {
   "cell_type": "markdown",
   "metadata": {},
   "source": [
    "We first defined the variables for the representation of a car going around an F-1 racetrack as:\n",
    "\n",
    "\\begin{align*}\n",
    "x &= \\text{x position} \\\\\n",
    "y &= \\text{y position} \\\\\n",
    "v_x &= \\text{x velocity} \\\\\n",
    "v_y &= \\text{y velocity} \\\\\n",
    "\\theta &= \\text{vehicle orientation with respect to the x-axis} \\\\\n",
    "\\delta &= \\text{angle of front wheels with respect to the vehicle's orientation} \\\\\n",
    "L &= \\text{length of the car} \\\\\n",
    "M &= \\text{maximum allowable centripetal acceleration} \\\\\n",
    "u_{\\text{acc}} &= \\text{acceleration} \\\\\n",
    "u_{\\text{angle}} &= \\text{change in steering angle}\n",
    "\\end{align*}\n",
    "\n",
    "We defined our state equations as follows:\n",
    "\n",
    "\\begin{align*}\n",
    "\\dot{\\begin{bmatrix}\n",
    "x \\\\ \n",
    "y \\\\ \n",
    "v_x \\\\ \n",
    "v_y \\\\ \n",
    "\\theta \\\\\n",
    "\\delta\n",
    "\\end{bmatrix}}\n",
    "&=\n",
    "\\begin{bmatrix}\n",
    "v_x \\\\\n",
    "v_y \\\\\n",
    "u_{\\text{acc}} \\cdot \\cos(\\theta) \\\\\n",
    "u_{\\text{acc}} \\cdot \\sin(\\theta) \\\\\n",
    "\\sqrt{v_x^2 + v_y^2} \\cdot \\frac{\\tan(\\delta)}{L} \\\\\n",
    "u_{\\text{angle}}\n",
    "\\end{bmatrix}\n",
    "\\end{align*}\n",
    "\n",
    "\n",
    "With an unmodified cost functional of \n",
    "\n",
    "$J[u] = \\int_{0}^{tf} dt$\n",
    "\n",
    "\n",
    "Now, from above, we know that there is a centripetal acceleration constraint given by:\n",
    "\n",
    "$\\delta \\leq \\arctan \\left( \\frac{LM}{v_x^2 + v_y^2} \\right)$\n",
    "\n",
    "\n",
    "\n",
    "\n",
    "\n",
    "\n",
    "\n",
    "\n",
    "\n",
    "\n",
    "\n",
    "\n",
    "\n",
    "\n",
    "\n",
    "\n"
   ]
  },
  {
   "cell_type": "markdown",
   "metadata": {},
   "source": [
    "# 4. Derivation of Solution"
   ]
  },
  {
   "cell_type": "markdown",
   "metadata": {},
   "source": [
    "### Deriving the Modified Cost Functional (Whoever made the Latex for the poster put it here)"
   ]
  },
  {
   "cell_type": "markdown",
   "metadata": {},
   "source": [
    "We first define the function that describes the topology of the racetrack, penalizing heavily for movement inside and outside the track. This function we call C(x,y).\n",
    "\n",
    "We define C(x,y) = "
   ]
  },
  {
   "cell_type": "markdown",
   "metadata": {},
   "source": [
    "### The Hamiltonian, Co-State Equations, and Boundary Equations (Whoever made the Latex for the poster put it here as well)\n"
   ]
  },
  {
   "cell_type": "markdown",
   "metadata": {},
   "source": [
    "# 5. Interpretations (they want a section called that)"
   ]
  },
  {
   "cell_type": "markdown",
   "metadata": {},
   "source": [
    "### Naive Approach"
   ]
  },
  {
   "cell_type": "code",
   "execution_count": null,
   "metadata": {},
   "outputs": [],
   "source": [
    "def naive_system():\n",
    "    W1 = 100\n",
    "    W2 = .02\n",
    "    n = 200\n",
    "    t = np.linspace(0, 1, n)\n",
    "\n",
    "    C0 = C(1.25, 1.25, W1)\n",
    "\n",
    "    def ode(t, s, p):\n",
    "        return p[0] * np.array([\n",
    "            s[2],\n",
    "            s[3],\n",
    "            1/(2*W2)*s[6],\n",
    "            1/(2*W2)*s[7],\n",
    "            C_dx(s[0], s[1], W1),\n",
    "            C_dy(s[0], s[1], W1),\n",
    "            -s[4],\n",
    "            -s[5]\n",
    "        ])\n",
    "    \n",
    "    def bc(ya, yb, p):\n",
    "        return np.array([\n",
    "            ya[0] + 1, ya[1] + 1.1, ya[2], ya[3], yb[0] - 1, yb[1] - 1.1, yb[2], yb[3],\n",
    "            \n",
    "            # H(tf) = 0\n",
    "            yb[4]*yb[2] + yb[5]*yb[3] + yb[6]**2/(2*W2) + yb[7]**2/(2*W2) - (1 + C0 + (yb[6]**2+yb[7]**2/(4*W2)))\n",
    "        ])\n",
    "    \n",
    "    guess = np.ones((8, n))\n",
    "\n",
    "    path_x = np.concatenate((np.linspace(-1.1, 2.1, 100), 2.1*np.ones(75), np.linspace(1.1, 2.1, 25)[::-1]))\n",
    "    path_y = np.concatenate((-1.1*np.ones(100), np.linspace(-1.1,1.1,75), 1.1*np.ones(25)))\n",
    "\n",
    "\n",
    "    guess[0] = path_x\n",
    "    guess[1] = path_y\n",
    "    p0 = np.array([.5])\n",
    "\n",
    "    sol = solve_bvp(ode, bc, t, guess, p0, max_nodes=30000)\n",
    "\n",
    "    X = np.linspace(-4, 4, 200)\n",
    "    Y = np.linspace(-3, 3, 200)\n",
    "    X, Y = np.meshgrid(X, Y)\n",
    "    Z = C(X, Y)\n",
    "\n",
    "\n",
    "    plt.plot(guess[0], guess[1], \"--k\", label=\"Inital Guess\")\n",
    "    plt.contour(X, Y, Z)\n",
    "    plt.plot(sol.sol(t)[0], sol.sol(t)[1], \"tab:orange\", label=\"Path of Car\")\n",
    "    plt.scatter(-1, -1.1, marker=\"*\", color=\"red\", label=\"Start\")\n",
    "    plt.scatter(1, 1.1, marker=\"*\", color=\"green\", label=\"End\")\n",
    "    plt.xlim([-4,4])\n",
    "    plt.ylim([-3,3])\n",
    "    plt.legend()\n",
    "    plt.title(f\"{sol.p[0]:.2F} seconds\")\n",
    "    plt.show()\n",
    "\n",
    "    return sol.p[0]\n",
    "\n",
    "naive_system()\n"
   ]
  },
  {
   "cell_type": "markdown",
   "metadata": {},
   "source": [
    "### Graphs"
   ]
  },
  {
   "cell_type": "markdown",
   "metadata": {},
   "source": [
    "### (i) Initial Guess of All Ones"
   ]
  },
  {
   "cell_type": "markdown",
   "metadata": {},
   "source": [
    "![Image Title](/Users/user/Vol4Project-1/figures/no_guess.png)"
   ]
  },
  {
   "cell_type": "markdown",
   "metadata": {},
   "source": [
    "### (ii) Initial Guess of Going Straight Through the Track"
   ]
  },
  {
   "cell_type": "markdown",
   "metadata": {},
   "source": [
    "![Image Title](/Users/user/Vol4Project-1/figures/bad_guess.png)"
   ]
  },
  {
   "cell_type": "markdown",
   "metadata": {},
   "source": [
    "### (iii) Initial Guess That Avoids Edges of The Track"
   ]
  },
  {
   "cell_type": "markdown",
   "metadata": {},
   "source": [
    "![Image Title](/Users/user/Vol4Project-1/figures/better_guess.png)"
   ]
  },
  {
   "cell_type": "markdown",
   "metadata": {},
   "source": [
    "### Approach with Centripetal Acceleration Constraint"
   ]
  },
  {
   "cell_type": "code",
   "execution_count": null,
   "metadata": {},
   "outputs": [],
   "source": [
    "# Put Ilha's code here"
   ]
  },
  {
   "cell_type": "markdown",
   "metadata": {},
   "source": [
    "### Graphs"
   ]
  },
  {
   "cell_type": "markdown",
   "metadata": {},
   "source": [
    "### Comparisons with other non-optimal solutions?"
   ]
  },
  {
   "cell_type": "markdown",
   "metadata": {},
   "source": [
    "# 6. Appendix"
   ]
  }
 ],
 "metadata": {
  "kernelspec": {
   "display_name": "Python 3",
   "language": "python",
   "name": "python3"
  },
  "language_info": {
   "codemirror_mode": {
    "name": "ipython",
    "version": 3
   },
   "file_extension": ".py",
   "mimetype": "text/x-python",
   "name": "python",
   "nbconvert_exporter": "python",
   "pygments_lexer": "ipython3",
   "version": "3.10.13"
  }
 },
 "nbformat": 4,
 "nbformat_minor": 2
}
