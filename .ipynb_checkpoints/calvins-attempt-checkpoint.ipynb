{
 "cells": [
  {
   "cell_type": "code",
   "execution_count": 1,
   "id": "c42bc557",
   "metadata": {},
   "outputs": [],
   "source": [
    "import numpy as np\n",
    "import matplotlib.pyplot as plt\n",
    "from scipy.integrate import solve_bvp"
   ]
  },
  {
   "cell_type": "code",
   "execution_count": 17,
   "id": "5a8a3d8b",
   "metadata": {},
   "outputs": [],
   "source": [
    "# here's what a regular ellipse looks like\n",
    "def ellipse(x, y, height=3, r=(1,1), loc=(0,0)):\n",
    "    return height/(((x-loc[0])**2/r[0] + (y-loc[1])**2/r[1])**20 + 1)\n",
    "\n",
    "# here are the ellipse's x and y derivatives\n",
    "def ellipse_dx(x, y, height=3, r=(1,1), loc=(0,0)):\n",
    "    circle = (x-loc[0])**2/r[0] + (y-loc[1])**2/r[1]\n",
    "    numer = -40 * height * (x-loc[0])*circle**19\n",
    "    denom = r[0]*(circle**20 + 1)**2\n",
    "\n",
    "    return numer / denom\n",
    "\n",
    "def ellipse_dy(x, y, height=3, r=(1,1), loc=(0,0)):\n",
    "    circle = (x-loc[0])**2/r[0] + (y-loc[1])**2/r[1]\n",
    "    numer = -40 * height * (y-loc[1])*circle**19\n",
    "    denom = r[1]*(circle**20 + 1)**2\n",
    "\n",
    "    return numer / denom\n",
    "\n",
    "# here's our track and its x and y derivatives\n",
    "track = lambda x, y: (\n",
    "    ellipse(x,y,r=(15,10)) - \n",
    "    ellipse(x,y,r=(10,5)) + \n",
    "    ellipse(x,y,loc=(-1,0)) + \n",
    "    ellipse(x,y,loc=(1,0)) + \n",
    "    ellipse(x,y)\n",
    ")\n",
    "\n",
    "track_dx = lambda x, y: (\n",
    "    ellipse_dx(x,y,r=(15,10)) - \n",
    "    ellipse_dx(x,y,r=(10,5)) + \n",
    "    ellipse_dx(x,y,loc=(-1,0)) + \n",
    "    ellipse_dx(x,y,loc=(1,0)) + \n",
    "    ellipse_dx(x,y)\n",
    ")\n",
    "\n",
    "track_dy = lambda x, y: (\n",
    "    ellipse_dy(x,y,r=(15,10)) - \n",
    "    ellipse_dy(x,y,r=(10,5)) + \n",
    "    ellipse_dy(x,y,loc=(-1,0)) + \n",
    "    ellipse_dy(x,y,loc=(1,0)) + \n",
    "    ellipse_dy(x,y)\n",
    ")"
   ]
  },
  {
   "cell_type": "code",
   "execution_count": 120,
   "id": "9568cea9",
   "metadata": {},
   "outputs": [],
   "source": [
    "# here's our steering penalty\n",
    "def steering(vx, vy, delta):\n",
    "    return 1/(np.tan(delta)*(vx**2 + vy**2)/L - M)**20\n",
    "\n",
    "# and here are its derivatives\n",
    "def steering_dvx(vx, vy, delta):\n",
    "    numerator = -40 * vx * np.tan(delta)\n",
    "    denominator = L * (np.tan(delta)*(vx**2 + vy**2)/L - M)**21\n",
    "    \n",
    "    return numerator/denominator\n",
    "\n",
    "def steering_dvy(vx, vy, delta):\n",
    "    numerator = -40 * vy * np.tan(delta)\n",
    "    denominator = L * (np.tan(delta)*(vx**2 + vy**2)/L - M)**21\n",
    "    \n",
    "    return numerator/denominator\n",
    "\n",
    "def steering_ddelta(vx, vy, delta):\n",
    "    numerator = 20 * L**20 / np.cos(delta)**2 * (vx**2 + vy**2)\n",
    "    denominator = (L*M - np.tan(delta)*(vx**2 + vy**2))**21\n",
    "    \n",
    "    return numerator/denominator"
   ]
  },
  {
   "cell_type": "code",
   "execution_count": 101,
   "id": "016f69a2",
   "metadata": {},
   "outputs": [],
   "source": [
    "def ode(t,x,p):\n",
    "    # first, split up the variable into its parts\n",
    "    x, y, vx, vy, theta, delta, p1, p2, p3, p4, p5, p6 = x\n",
    "    \n",
    "    # solve for our controls and our speed\n",
    "    uacc = 1/2/w1*(p3*np.cos(theta) + p4*np.sin(theta))\n",
    "    uturn = 1/2/w2*p6\n",
    "    speed = np.sqrt(vx**2+vy**2)\n",
    "\n",
    "    # our x derivatives\n",
    "    dx = vx\n",
    "    dy = vy\n",
    "    dvx = uacc*np.cos(theta)\n",
    "    dvy = uacc*np.sin(theta)\n",
    "    dtheta = speed*np.tan(delta)/L\n",
    "    ddelta = uturn\n",
    "\n",
    "    # our p derivatives\n",
    "    dp1 = 100*track_dx(x,y)\n",
    "    dp2 = 100*track_dy(x,y)\n",
    "    dp3 = -p1 - p5*vx/speed*np.tan(delta)/L + steering_dvx(vx, vy, delta)\n",
    "    dp4 = -p2 - p5*vy/speed*np.tan(delta)/L + steering_dvy(vx, vy, delta)\n",
    "    dp5 = p3*uacc*np.sin(theta) - p4*uacc*np.cos(theta)\n",
    "    dp6 = -p5/L*speed/np.cos(delta)**2/L + steering_ddelta(vx, vy, delta)\n",
    "    \n",
    "    return p[0]*np.array([dx, dy, dvx, dvy, dtheta, ddelta, dp1, dp2, dp3, dp4, dp5, dp6])"
   ]
  },
  {
   "cell_type": "code",
   "execution_count": 104,
   "id": "8c6acac9",
   "metadata": {},
   "outputs": [],
   "source": [
    "def bc(xa, xb, p):\n",
    "    # first, split up the variables into their parts\n",
    "    x0, y0, vx0, vy0, theta0, delta0, p10, p20, p30, p40, p50, p60 = xa\n",
    "    xf, yf, vxf, vyf, thetaf, deltaf, p1f, p2f, p3f, p4f, p5f, p6f = xb\n",
    "    \n",
    "    # get final controls and speed\n",
    "    uaccf = 1/2/w1*(p3f*np.cos(thetaf) + p4f*np.sin(thetaf))\n",
    "    uturnf = 1/2/w2*p6f\n",
    "    speedf = np.sqrt(vxf**2+vyf**2)\n",
    "    \n",
    "    # find the final hamiltonian\n",
    "    hf = (\n",
    "        p1f*vxf + \n",
    "        p2f*vyf + \n",
    "        p3f*uaccf*np.cos(thetaf) + \n",
    "        p4f*uaccf*np.sin(thetaf) +\n",
    "        p5f*speedf*np.tan(deltaf)/L + \n",
    "        p6f*uturnf - \n",
    "        1 - \n",
    "        100*track(xf, yf) - \n",
    "        w1*uaccf**2 - \n",
    "        w2*uturnf**2 - \n",
    "        steering(vxf,vyf,deltaf)\n",
    "    )\n",
    "    \n",
    "    return np.array([x0+1,y0+1.1,vx0,vy0,theta0,delta0,xf-1,yf-1.1,p3f,p4f,p5f,p6f,hf])"
   ]
  },
  {
   "cell_type": "code",
   "execution_count": 123,
   "id": "13745b19",
   "metadata": {},
   "outputs": [
    {
     "name": "stderr",
     "output_type": "stream",
     "text": [
      "/var/folders/z_/1706t1xn6cz_lc8721jb8sq00000gn/T/ipykernel_47450/2858214143.py:8: RuntimeWarning: overflow encountered in power\n",
      "  numer = -40 * height * (x-loc[0])*circle**19\n",
      "/var/folders/z_/1706t1xn6cz_lc8721jb8sq00000gn/T/ipykernel_47450/2858214143.py:8: RuntimeWarning: overflow encountered in multiply\n",
      "  numer = -40 * height * (x-loc[0])*circle**19\n",
      "/var/folders/z_/1706t1xn6cz_lc8721jb8sq00000gn/T/ipykernel_47450/2858214143.py:9: RuntimeWarning: overflow encountered in power\n",
      "  denom = r[0]*(circle**20 + 1)**2\n",
      "/var/folders/z_/1706t1xn6cz_lc8721jb8sq00000gn/T/ipykernel_47450/2858214143.py:9: RuntimeWarning: overflow encountered in square\n",
      "  denom = r[0]*(circle**20 + 1)**2\n",
      "/var/folders/z_/1706t1xn6cz_lc8721jb8sq00000gn/T/ipykernel_47450/2858214143.py:11: RuntimeWarning: invalid value encountered in divide\n",
      "  return numer / denom\n",
      "/var/folders/z_/1706t1xn6cz_lc8721jb8sq00000gn/T/ipykernel_47450/2858214143.py:15: RuntimeWarning: overflow encountered in power\n",
      "  numer = -40 * height * (y-loc[1])*circle**19\n",
      "/var/folders/z_/1706t1xn6cz_lc8721jb8sq00000gn/T/ipykernel_47450/2858214143.py:15: RuntimeWarning: overflow encountered in multiply\n",
      "  numer = -40 * height * (y-loc[1])*circle**19\n",
      "/var/folders/z_/1706t1xn6cz_lc8721jb8sq00000gn/T/ipykernel_47450/2858214143.py:16: RuntimeWarning: overflow encountered in power\n",
      "  denom = r[1]*(circle**20 + 1)**2\n",
      "/var/folders/z_/1706t1xn6cz_lc8721jb8sq00000gn/T/ipykernel_47450/2858214143.py:16: RuntimeWarning: overflow encountered in square\n",
      "  denom = r[1]*(circle**20 + 1)**2\n",
      "/var/folders/z_/1706t1xn6cz_lc8721jb8sq00000gn/T/ipykernel_47450/2858214143.py:18: RuntimeWarning: invalid value encountered in divide\n",
      "  return numer / denom\n",
      "/var/folders/z_/1706t1xn6cz_lc8721jb8sq00000gn/T/ipykernel_47450/2195875561.py:14: RuntimeWarning: overflow encountered in power\n",
      "  denominator = L * (np.tan(delta)*(vx**2 + vy**2)/L - M)**21\n",
      "/var/folders/z_/1706t1xn6cz_lc8721jb8sq00000gn/T/ipykernel_47450/2195875561.py:20: RuntimeWarning: overflow encountered in power\n",
      "  denominator = (L*M - np.tan(delta)*(vx**2 + vy**2))**21\n",
      "/var/folders/z_/1706t1xn6cz_lc8721jb8sq00000gn/T/ipykernel_47450/2195875561.py:3: RuntimeWarning: overflow encountered in scalar power\n",
      "  return 1/(np.tan(delta)*(vx**2 + vy**2)/L - M)**20\n"
     ]
    },
    {
     "data": {
      "text/plain": [
       "[<matplotlib.lines.Line2D at 0x12f662290>]"
      ]
     },
     "execution_count": 123,
     "metadata": {},
     "output_type": "execute_result"
    },
    {
     "data": {
      "image/png": "[encoded data removed]",
      "text/plain": [
       "<Figure size 640x480 with 1 Axes>"
      ]
     },
     "metadata": {},
     "output_type": "display_data"
    }
   ],
   "source": [
    "# parameters\n",
    "L = .12\n",
    "M = 10\n",
    "w1 = 2\n",
    "w2 = 5\n",
    "\n",
    "# initial guesses\n",
    "x0 = np.concatenate((np.linspace(-1,2.1,60), 2.1*np.ones(80), np.linspace(2.1,1,60)))\n",
    "y0 = np.concatenate((-1.1*np.ones(60), np.linspace(-1.1,1.1,80), 1.1*np.ones(60)))\n",
    "vx0 = -(4*(np.linspace(0,1,200)-.4))**2+3\n",
    "vy0 = -(2*np.linspace(0,1,200)-1)**2+1\n",
    "theta0 = 180*np.linspace(0,1,200)**6\n",
    "delta0 = 750*(-(np.linspace(0,1,200)-.5)**4+.06)\n",
    "p0 = 2*np.ones(200)\n",
    "x0 = np.vstack([x0,y0,vx0,vy0,theta0,delta0,p0,p0,p0,p0,p0,p0])\n",
    "\n",
    "t = np.linspace(0,1,200)\n",
    "T = 1\n",
    "\n",
    "sol = solve_bvp(ode,bc,t,x0,[T])\n",
    "plt.plot(*sol.sol(t)[:2])"
   ]
  }
 ],
 "metadata": {
  "kernelspec": {
   "display_name": "Python 3 (ipykernel)",
   "language": "python",
   "name": "python3"
  },
  "language_info": {
   "codemirror_mode": {
    "name": "ipython",
    "version": 3
   },
   "file_extension": ".py",
   "mimetype": "text/x-python",
   "name": "python",
   "nbconvert_exporter": "python",
   "pygments_lexer": "ipython3",
   "version": "3.11.4"
  }
 },
 "nbformat": 4,
 "nbformat_minor": 5
}
