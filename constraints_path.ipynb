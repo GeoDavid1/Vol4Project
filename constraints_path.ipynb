{
 "cells": [
  {
   "cell_type": "code",
   "execution_count": 2,
   "metadata": {},
   "outputs": [],
   "source": [
    "# Import needed libraries\n",
    "import numpy as np\n",
    "from scipy.integrate import solve_bvp\n",
    "import matplotlib.pyplot as plt\n",
    "from integral_constraints import C, C_dx, C_dy, K, K_dvx, K_dvy, K_ddelta"
   ]
  },
  {
   "cell_type": "code",
   "execution_count": null,
   "metadata": {},
   "outputs": [],
   "source": [
    "def constraints_path():\n",
    "\n",
    "    # Impose constants values for our parameters\n",
    "    L = 0.05\n",
    "    M = 3\n",
    "    W1 = 1\n",
    "    W2 = 0.05\n",
    "    \n",
    "    # Element 1: The ODE Function\n",
    "    def ode(t,y,p):\n",
    "        '''defines the ODE system'''\n",
    "        return p[0] * np.array([y[2],\n",
    "                                y[3],\n",
    "                                1/(2*W1) * (y[8] * np.cos(y[4]) + y[9] * np.sin(y[4])) * np.cos(y[4]),\n",
    "                                1/(2*w1) * (y[8]  * np.cos(y[4]) + y[9] * np.sin(y[4])) * np.sin(y[4]),\n",
    "                                (np.sqrt(y[2]**2 + y[3]**2)) * np.tan(y[5] / L),\n",
    "                                (1/(2*W2)) * (y[11]),\n",
    "                                C_dx(y[0], y[1]),\n",
    "                                C_dy(y[0], y[1]),\n",
    "                                -y[6] - y[10] * (y[2] /(np.sqrt(y[2]**2 + y[3]**2)) * np.tan(y[5] / L)) + K_dvx(y[5], y[2], y[3]),\n",
    "                                -y[7] - y[10] * (y[3] /(np.sqrt(y[2]**2 + y[3]**2)) * np.tan(y[5] / L)) + K_dvy(y[5], y[2], y[3]),\n",
    "                                y[8] * (1/(2*W1)) * (y[])\n",
    "                                \n",
    "        \n",
    "\n",
    "\n",
    "\n"
   ]
  }
 ],
 "metadata": {
  "kernelspec": {
   "display_name": "Python 3",
   "language": "python",
   "name": "python3"
  },
  "language_info": {
   "codemirror_mode": {
    "name": "ipython",
    "version": 3
   },
   "file_extension": ".py",
   "mimetype": "text/x-python",
   "name": "python",
   "nbconvert_exporter": "python",
   "pygments_lexer": "ipython3",
   "version": "3.10.13"
  }
 },
 "nbformat": 4,
 "nbformat_minor": 2
}
